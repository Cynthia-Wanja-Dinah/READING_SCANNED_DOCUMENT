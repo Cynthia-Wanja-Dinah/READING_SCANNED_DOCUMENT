{
  "nbformat": 4,
  "nbformat_minor": 0,
  "metadata": {
    "colab": {
      "provenance": [],
      "authorship_tag": "ABX9TyPMlyPfyjP0DRR+FYO5sAQA",
      "include_colab_link": true
    },
    "kernelspec": {
      "name": "python3",
      "display_name": "Python 3"
    },
    "language_info": {
      "name": "python"
    }
  },
  "cells": [
    {
      "cell_type": "markdown",
      "metadata": {
        "id": "view-in-github",
        "colab_type": "text"
      },
      "source": [
        "<a href=\"https://colab.research.google.com/github/Cynthia-Wanja-Dinah/READING_SCANNED_DOCUMENT/blob/main/Untitled28.ipynb\" target=\"_parent\"><img src=\"https://colab.research.google.com/assets/colab-badge.svg\" alt=\"Open In Colab\"/></a>"
      ]
    },
    {
      "cell_type": "markdown",
      "source": [
        "Scanned documents are a challenging and common source of text. Optical Character\n",
        "Recognition, or OCR, refers to the process of extracting text from scanned documents"
      ],
      "metadata": {
        "id": "Iz-9Uu3CGkEG"
      }
    },
    {
      "cell_type": "code",
      "execution_count": 2,
      "metadata": {
        "colab": {
          "base_uri": "https://localhost:8080/"
        },
        "id": "J60gVZQBGcOp",
        "outputId": "27a04ca0-128f-4fcf-ef12-a058003ba4e3"
      },
      "outputs": [
        {
          "output_type": "stream",
          "name": "stdout",
          "text": [
            "Collecting pytesseract\n",
            "  Downloading pytesseract-0.3.10-py3-none-any.whl (14 kB)\n",
            "Requirement already satisfied: packaging>=21.3 in /usr/local/lib/python3.10/dist-packages (from pytesseract) (23.2)\n",
            "Requirement already satisfied: Pillow>=8.0.0 in /usr/local/lib/python3.10/dist-packages (from pytesseract) (9.4.0)\n",
            "Installing collected packages: pytesseract\n",
            "Successfully installed pytesseract-0.3.10\n"
          ]
        }
      ],
      "source": [
        "! pip install pytesseract"
      ]
    },
    {
      "cell_type": "code",
      "source": [
        "! pip install opencv-python\n",
        "\n"
      ],
      "metadata": {
        "colab": {
          "base_uri": "https://localhost:8080/"
        },
        "id": "jZsHBi4vHFe7",
        "outputId": "987f3e26-8b46-4560-9a4d-2161fa6fdfc8"
      },
      "execution_count": 7,
      "outputs": [
        {
          "output_type": "stream",
          "name": "stdout",
          "text": [
            "Requirement already satisfied: opencv-python in /usr/local/lib/python3.10/dist-packages (4.8.0.76)\n",
            "Requirement already satisfied: numpy>=1.21.2 in /usr/local/lib/python3.10/dist-packages (from opencv-python) (1.25.2)\n"
          ]
        }
      ]
    },
    {
      "cell_type": "markdown",
      "source": [
        "Step 2:\n",
        "Read a sample scanned PNG  with Python."
      ],
      "metadata": {
        "id": "VcCZY3ddHmKZ"
      }
    },
    {
      "cell_type": "code",
      "source": [
        "import cv2\n",
        "from pytesseract import image_to_string\n",
        "filename = \" 20220629 _131726 . jpg \"\n",
        "img = cv2 . imread ( filename )\n",
        "text = image_to_string ( img , lang ='eng ')\n",
        "print ( text )"
      ],
      "metadata": {
        "id": "XFKzc3kEHflO"
      },
      "execution_count": null,
      "outputs": []
    },
    {
      "cell_type": "markdown",
      "source": [
        "While using mac OS, several users have reported errors as follows.\n",
        "FileNotFoundError: [Errno 2] No such file or directory: ‘tesseract’:\n",
        "‘tesseract’\n",
        "To resolve, run the below install using Homebrew and try the Step 2 code again.\n",
        "Homebrew is a missing package manager. Don’t have Homebrew installed?brew install tesseract\n",
        "The results can differ depending on the quality of the scanned document. Thus,\n",
        "passing the image through certain filters can help get better results [207]. Examples\n",
        "of such filters can be seen below.\n",
        ".\n"
      ],
      "metadata": {
        "id": "A_g1RK0UIs_y"
      }
    },
    {
      "cell_type": "code",
      "source": [
        "import numpy as np\n",
        "import cv2\n",
        "def get_grayscale ( image ) :\n",
        " return cv2 . cvtColor (\n",
        "image , cv2 . COLOR_BGR2GRAY\n",
        ")\n",
        "def thresholding ( image ) :\n",
        " return cv2 . threshold (\n",
        "image , 0 , 255 , cv2 . THRESH_BINARY + cv2 . THRESH_OTSU\n",
        ") [1]\n",
        "def opening ( image ) :\n",
        " return cv2 . morphologyEx (\n",
        "image , cv2 . MORPH_OPEN , np . ones ((5 ,5) , np . uint8 )\n",
        ")\n",
        ""
      ],
      "metadata": {
        "id": "t3I6wLl5I6lm"
      },
      "execution_count": null,
      "outputs": []
    },
    {
      "cell_type": "code",
      "source": [
        "gray = get_grayscale ( img )\n",
        "thresh = thresholding ( gray )\n",
        "openn = opening ( gray )\n",
        "text_filt = image_to_string ( thresh , lang = \" eng \" )"
      ],
      "metadata": {
        "id": "ktOLVMhpJe-T"
      },
      "execution_count": null,
      "outputs": []
    }
  ]
}